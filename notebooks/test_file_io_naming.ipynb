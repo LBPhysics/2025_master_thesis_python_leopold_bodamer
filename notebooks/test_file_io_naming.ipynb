{
 "cells": [
  {
   "cell_type": "markdown",
   "id": "66f5c3d5",
   "metadata": {},
   "source": [
    "# File Naming / Saving / Loading Integration Test\n",
    "\n",
    "This notebook programmatically tests the qspectro2d data pipeline:\n",
    "\n",
    "1. Construct a minimal dummy simulation context (no expensive dynamics).\n",
    "2. Save multiple 1D dummy signals with different `inhom_index` values -> verify unique, deterministic filenames.\n",
    "3. Save an *averaged* inhomogeneous result (`inhom_averaged=True`) and check filename suffix.\n",
    "5. Load every saved file using `load_simulation_data` and validate metadata + array shapes.\n",
    "6. Summarize results and (optionally) clean up.\n",
    "\n",
    "> The notebook avoids running the real solver; it only exercises file naming and I/O paths."
   ]
  },
  {
   "cell_type": "code",
   "execution_count": 1,
   "id": "9e373b48",
   "metadata": {},
   "outputs": [
    {
     "name": "stdout",
     "output_type": "stream",
     "text": [
      "Data root: C:\\Users\\leopo\\.vscode\\thesis_python\\data\n"
     ]
    }
   ],
   "source": [
    "# Imports & setup\n",
    "import numpy as np\n",
    "from pathlib import Path\n",
    "from datetime import datetime\n",
    "\n",
    "from qspectro2d.core.simulation.sim_config import SimulationConfig\n",
    "from qspectro2d.utils.data_io import save_simulation_data, load_simulation_data\n",
    "from qspectro2d.utils.file_naming import generate_unique_data_filename\n",
    "from thesis_paths import DATA_DIR, ensure_project_directories\n",
    "\n",
    "ensure_project_directories()\n",
    "print('Data root:', DATA_DIR)"
   ]
  },
  {
   "cell_type": "code",
   "execution_count": 2,
   "id": "9062f528",
   "metadata": {},
   "outputs": [],
   "source": [
    "# Dummy object stubs (minimal attributes + to_dict)\n",
    "class DummySystem:\n",
    "    def __init__(self, n_atoms=1):\n",
    "        self.n_atoms = n_atoms\n",
    "        self.n_chains = 1\n",
    "        self.n_rings = None\n",
    "        self.coupling_cm = 0.0\n",
    "        self.frequencies_cm = [16000.0]\n",
    "    def to_dict(self):\n",
    "        return {\n",
    "            'n_atoms': self.n_atoms,\n",
    "            'n_chains': self.n_chains,\n",
    "            'n_rings': self.n_rings,\n",
    "            'coupling_cm': self.coupling_cm,\n",
    "        }\n",
    "\n",
    "class DummyLaser:\n",
    "    def __init__(self):\n",
    "        self.base_amplitude = 0.01\n",
    "        self.carrier_freq_cm = 16000.0\n",
    "        self.pulse_fwhm_fs = 15.0\n",
    "    def to_dict(self):\n",
    "        return {\n",
    "            'base_amplitude': self.base_amplitude,\n",
    "            'carrier_freq_cm': self.carrier_freq_cm,\n",
    "            'pulse_fwhm_fs': self.pulse_fwhm_fs,\n",
    "        }\n",
    "\n",
    "class DummyBath:\n",
    "    def __init__(self):\n",
    "        self.tag = 'ohmic'\n",
    "    # Pickle is fine with simple objects; no to_dict required for saving.\n",
    "\n",
    "class DummySimModule:\n",
    "    def __init__(self, sim_config):\n",
    "        self.system = DummySystem()\n",
    "        self.laser = DummyLaser()\n",
    "        self.bath = DummyBath()\n",
    "        self.simulation_config = sim_config\n",
    "\n",
    "# Helper for pretty printing base names\n",
    "def stem(path):\n",
    "    return Path(path).stem"
   ]
  },
  {
   "cell_type": "code",
   "execution_count": 3,
   "id": "041d4c2b",
   "metadata": {},
   "outputs": [
    {
     "name": "stdout",
     "output_type": "stream",
     "text": [
      "Test directory: C:\\Users\\leopo\\.vscode\\thesis_python\\data\\io_naming_tests\\20250927_094432\n"
     ]
    }
   ],
   "source": [
    "# Create a working subdirectory under data for this test run\n",
    "timestamp = datetime.now().strftime('%Y%m%d_%H%M%S')\n",
    "test_dir = Path(DATA_DIR) / 'io_naming_tests' / timestamp\n",
    "test_dir.mkdir(parents=True, exist_ok=True)\n",
    "print('Test directory:', test_dir)"
   ]
  },
  {
   "cell_type": "code",
   "execution_count": 4,
   "id": "0ac25f68",
   "metadata": {},
   "outputs": [
    {
     "name": "stdout",
     "output_type": "stream",
     "text": [
      "SimulationConfig Summary:\n",
      "-------------------------------\n",
      "1d ELECTRONIC SPECTROSCOPY SIMULATION\n",
      "Signal Type        : ['rephasing']\n",
      "Time Parameters:\n",
      "Coherence Time     : 50.0 fs\n",
      "Wait Time          : 0.0 fs\n",
      "Max Det. Time      : 100.0 fs\n",
      "\n",
      "Time Step (dt)     : 0.1 fs\n",
      "-------------------------------\n",
      "Solver Type        : ME\n",
      "Use rwa_sl         : True\n",
      "\n",
      "-------------------------------\n",
      "Phase Cycles       : 4\n",
      "Inhom. Points      : 4\n",
      "Inhom Enabled      : False\n",
      "Inhom Averaged     : False\n",
      "Inhom Index        : 0\n",
      "Max Workers        : 1\n",
      "-------------------------------\n",
      "\n"
     ]
    }
   ],
   "source": [
    "# Base SimulationConfig (we only vary inhom_index & averaged flags).\n",
    "base_cfg = SimulationConfig(\n",
    "    ode_solver='ME',\n",
    "    dt=0.1,\n",
    "    t_coh=50.0,\n",
    "    t_wait=0.0,\n",
    "    t_det_max=100.0,\n",
    "    n_phases=4,\n",
    "    n_inhomogen=4,\n",
    "    sim_type='1d',\n",
    "    signal_types=['rephasing'],\n",
    ")\n",
    "print(base_cfg.summary())"
   ]
  },
  {
   "cell_type": "code",
   "execution_count": 5,
   "id": "10e41f68",
   "metadata": {},
   "outputs": [
    {
     "name": "stdout",
     "output_type": "stream",
     "text": [
      "Info saved: C:\\Users\\leopo\\.vscode\\thesis_python\\data\\io_naming_tests\\20250927_094432\\1d_spectroscopy\\1_atoms\\ME\\RWA\\inhom\\t_dm100.0_t_wait_0.0_dt_0.1\\1d_t_coh_50_inhom_000_info.pkl\n",
      "Info saved: C:\\Users\\leopo\\.vscode\\thesis_python\\data\\io_naming_tests\\20250927_094432\\1d_spectroscopy\\1_atoms\\ME\\RWA\\inhom\\t_dm100.0_t_wait_0.0_dt_0.1\\1d_t_coh_50_inhom_001_info.pkl\n",
      "Info saved: C:\\Users\\leopo\\.vscode\\thesis_python\\data\\io_naming_tests\\20250927_094432\\1d_spectroscopy\\1_atoms\\ME\\RWA\\inhom\\t_dm100.0_t_wait_0.0_dt_0.1\\1d_t_coh_50_inhom_002_info.pkl\n",
      "Info saved: C:\\Users\\leopo\\.vscode\\thesis_python\\data\\io_naming_tests\\20250927_094432\\1d_spectroscopy\\1_atoms\\ME\\RWA\\inhom\\t_dm100.0_t_wait_0.0_dt_0.1\\1d_t_coh_50_inhom_003_info.pkl\n",
      "Raw saved stems:\n",
      "   1d_t_coh_50_inhom_000_data\n",
      "   1d_t_coh_50_inhom_001_data\n",
      "   1d_t_coh_50_inhom_002_data\n",
      "   1d_t_coh_50_inhom_003_data\n"
     ]
    }
   ],
   "source": [
    "# 1. Save raw inhomogeneous configurations (inhom_index = 0..3)\n",
    "raw_paths = []\n",
    "for idx in range(base_cfg.n_inhomogen):\n",
    "    cfg = SimulationConfig(**{**base_cfg.to_dict(), 'inhom_index': idx, 'inhom_enabled': True})\n",
    "    sim = DummySimModule(cfg)\n",
    "    # Dummy 1D signal: small sinusoid shifted by index\n",
    "    t_det = np.linspace(0, 100, 256)\n",
    "    data = np.sin(0.1 * t_det + idx) * np.exp(-t_det/120)\n",
    "    meta = {\n",
    "        'signal_types': cfg.signal_types,\n",
    "        't_coh_value': cfg.t_coh,\n",
    "        'inhom_enabled': True,\n",
    "        'inhom_averaged': False,\n",
    "    }\n",
    "    out = save_simulation_data(sim, meta, [data], t_det, data_root=test_dir)\n",
    "    raw_paths.append(out)\n",
    "\n",
    "print('Raw saved stems:')\n",
    "for p in raw_paths:\n",
    "    print('  ', stem(p))\n",
    "assert len(set(map(stem, raw_paths))) == len(raw_paths), 'Filename collision detected for raw inhom configs.'"
   ]
  },
  {
   "cell_type": "code",
   "execution_count": 6,
   "id": "2d9ba943",
   "metadata": {},
   "outputs": [
    {
     "name": "stdout",
     "output_type": "stream",
     "text": [
      "Loading data bundle: C:\\Users\\leopo\\.vscode\\thesis_python\\data\\io_naming_tests\\20250927_094432\\1d_spectroscopy\\1_atoms\\ME\\RWA\\inhom\\t_dm100.0_t_wait_0.0_dt_0.1\\1d_t_coh_50_inhom_000_data.npz\n",
      "Loading data: C:\\Users\\leopo\\.vscode\\thesis_python\\data\\io_naming_tests\\20250927_094432\\1d_spectroscopy\\1_atoms\\ME\\RWA\\inhom\\t_dm100.0_t_wait_0.0_dt_0.1\\1d_t_coh_50_inhom_000_data.npz\n",
      "Loaded data: C:\\Users\\leopo\\.vscode\\thesis_python\\data\\io_naming_tests\\20250927_094432\\1d_spectroscopy\\1_atoms\\ME\\RWA\\inhom\\t_dm100.0_t_wait_0.0_dt_0.1\\1d_t_coh_50_inhom_000_data.npz\n",
      "Loading info: C:\\Users\\leopo\\.vscode\\thesis_python\\data\\io_naming_tests\\20250927_094432\\1d_spectroscopy\\1_atoms\\ME\\RWA\\inhom\\t_dm100.0_t_wait_0.0_dt_0.1\\1d_t_coh_50_inhom_000_info.pkl\n",
      "Loaded info: C:\\Users\\leopo\\.vscode\\thesis_python\\data\\io_naming_tests\\20250927_094432\\1d_spectroscopy\\1_atoms\\ME\\RWA\\inhom\\t_dm100.0_t_wait_0.0_dt_0.1\\1d_t_coh_50_inhom_000_info.pkl\n",
      "Loading data bundle: C:\\Users\\leopo\\.vscode\\thesis_python\\data\\io_naming_tests\\20250927_094432\\1d_spectroscopy\\1_atoms\\ME\\RWA\\inhom\\t_dm100.0_t_wait_0.0_dt_0.1\\1d_t_coh_50_inhom_001_data.npz\n",
      "Loading data: C:\\Users\\leopo\\.vscode\\thesis_python\\data\\io_naming_tests\\20250927_094432\\1d_spectroscopy\\1_atoms\\ME\\RWA\\inhom\\t_dm100.0_t_wait_0.0_dt_0.1\\1d_t_coh_50_inhom_001_data.npz\n",
      "Loaded data: C:\\Users\\leopo\\.vscode\\thesis_python\\data\\io_naming_tests\\20250927_094432\\1d_spectroscopy\\1_atoms\\ME\\RWA\\inhom\\t_dm100.0_t_wait_0.0_dt_0.1\\1d_t_coh_50_inhom_001_data.npz\n",
      "Loading info: C:\\Users\\leopo\\.vscode\\thesis_python\\data\\io_naming_tests\\20250927_094432\\1d_spectroscopy\\1_atoms\\ME\\RWA\\inhom\\t_dm100.0_t_wait_0.0_dt_0.1\\1d_t_coh_50_inhom_001_info.pkl\n",
      "Loaded info: C:\\Users\\leopo\\.vscode\\thesis_python\\data\\io_naming_tests\\20250927_094432\\1d_spectroscopy\\1_atoms\\ME\\RWA\\inhom\\t_dm100.0_t_wait_0.0_dt_0.1\\1d_t_coh_50_inhom_001_info.pkl\n",
      "Loading data bundle: C:\\Users\\leopo\\.vscode\\thesis_python\\data\\io_naming_tests\\20250927_094432\\1d_spectroscopy\\1_atoms\\ME\\RWA\\inhom\\t_dm100.0_t_wait_0.0_dt_0.1\\1d_t_coh_50_inhom_002_data.npz\n",
      "Loading data: C:\\Users\\leopo\\.vscode\\thesis_python\\data\\io_naming_tests\\20250927_094432\\1d_spectroscopy\\1_atoms\\ME\\RWA\\inhom\\t_dm100.0_t_wait_0.0_dt_0.1\\1d_t_coh_50_inhom_002_data.npz\n",
      "Loaded data: C:\\Users\\leopo\\.vscode\\thesis_python\\data\\io_naming_tests\\20250927_094432\\1d_spectroscopy\\1_atoms\\ME\\RWA\\inhom\\t_dm100.0_t_wait_0.0_dt_0.1\\1d_t_coh_50_inhom_002_data.npz\n",
      "Loading info: C:\\Users\\leopo\\.vscode\\thesis_python\\data\\io_naming_tests\\20250927_094432\\1d_spectroscopy\\1_atoms\\ME\\RWA\\inhom\\t_dm100.0_t_wait_0.0_dt_0.1\\1d_t_coh_50_inhom_002_info.pkl\n",
      "Loaded info: C:\\Users\\leopo\\.vscode\\thesis_python\\data\\io_naming_tests\\20250927_094432\\1d_spectroscopy\\1_atoms\\ME\\RWA\\inhom\\t_dm100.0_t_wait_0.0_dt_0.1\\1d_t_coh_50_inhom_002_info.pkl\n",
      "Loading data bundle: C:\\Users\\leopo\\.vscode\\thesis_python\\data\\io_naming_tests\\20250927_094432\\1d_spectroscopy\\1_atoms\\ME\\RWA\\inhom\\t_dm100.0_t_wait_0.0_dt_0.1\\1d_t_coh_50_inhom_003_data.npz\n",
      "Loading data: C:\\Users\\leopo\\.vscode\\thesis_python\\data\\io_naming_tests\\20250927_094432\\1d_spectroscopy\\1_atoms\\ME\\RWA\\inhom\\t_dm100.0_t_wait_0.0_dt_0.1\\1d_t_coh_50_inhom_003_data.npz\n",
      "Loaded data: C:\\Users\\leopo\\.vscode\\thesis_python\\data\\io_naming_tests\\20250927_094432\\1d_spectroscopy\\1_atoms\\ME\\RWA\\inhom\\t_dm100.0_t_wait_0.0_dt_0.1\\1d_t_coh_50_inhom_003_data.npz\n",
      "Loading info: C:\\Users\\leopo\\.vscode\\thesis_python\\data\\io_naming_tests\\20250927_094432\\1d_spectroscopy\\1_atoms\\ME\\RWA\\inhom\\t_dm100.0_t_wait_0.0_dt_0.1\\1d_t_coh_50_inhom_003_info.pkl\n",
      "Loaded info: C:\\Users\\leopo\\.vscode\\thesis_python\\data\\io_naming_tests\\20250927_094432\\1d_spectroscopy\\1_atoms\\ME\\RWA\\inhom\\t_dm100.0_t_wait_0.0_dt_0.1\\1d_t_coh_50_inhom_003_info.pkl\n",
      "Info saved: C:\\Users\\leopo\\.vscode\\thesis_python\\data\\io_naming_tests\\20250927_094432\\1d_spectroscopy\\1_atoms\\ME\\RWA\\inhom\\t_dm100.0_t_wait_0.0_dt_0.1\\1d_inhom_avg_t_coh_50_inhom_000_info.pkl\n",
      "Averaged stem: 1d_inhom_avg_t_coh_50_inhom_000_data\n"
     ]
    }
   ],
   "source": [
    "# 2. Save an averaged inhomogeneous result (prefix style now)\n",
    "avg_cfg = SimulationConfig(**{**base_cfg.to_dict(), 'inhom_index': 0, 'inhom_enabled': True, 'inhom_averaged': True})\n",
    "sim_avg = DummySimModule(avg_cfg)\n",
    "t_det = np.linspace(0, 100, 256)\n",
    "avg_data = np.mean([load_simulation_data(p)['rephasing'] for p in raw_paths], axis=0)\n",
    "meta_avg = {\n",
    "    'signal_types': avg_cfg.signal_types,\n",
    "    't_coh_value': avg_cfg.t_coh,\n",
    "    'inhom_enabled': True,\n",
    "    'inhom_averaged': True,\n",
    "}\n",
    "avg_path = save_simulation_data(sim_avg, meta_avg, [avg_data], t_det, data_root=test_dir)\n",
    "print('Averaged stem:', stem(avg_path))\n",
    "# New expectation: prefix starts with 'inhom_avg_'\n",
    "assert stem(avg_path).startswith('1d_inhom_avg_'), 'Averaged filename missing inhom_avg prefix.'"
   ]
  },
  {
   "cell_type": "code",
   "execution_count": 7,
   "id": "8d0ee4e1",
   "metadata": {},
   "outputs": [
    {
     "name": "stdout",
     "output_type": "stream",
     "text": [
      "Info saved: C:\\Users\\leopo\\.vscode\\thesis_python\\data\\io_naming_tests\\20250927_094432\\2d_spectroscopy\\1_atoms\\ME\\RWA\\inhom\\t_dm100.0_t_wait_0.0_dt_0.1\\2d_t_coh_50_inhom_000_info.pkl\n",
      "2D stem: 2d_t_coh_50_inhom_000_data\n"
     ]
    }
   ],
   "source": [
    "# 3. Save a dummy 2D stacked dataset (now expects no tcoh_avg tag unless explicitly set)\n",
    "cfg_2d = SimulationConfig(**{**base_cfg.to_dict(), 'sim_type': '2d', 'inhom_index': 0})\n",
    "sim_2d = DummySimModule(cfg_2d)\n",
    "\n",
    "# NOTE: We do NOT set t_coh_averaged=True anymore unless stacking/averaging over t_coh values.\n",
    "# This keeps naming deterministic with current config.\n",
    "\n",
    "t_det = np.linspace(0, 100, 128)\n",
    "t_coh = np.linspace(0, 60, 11)\n",
    "# Create a separable 2D dummy surface\n",
    "det_part = np.exp(-t_det/80)\n",
    "coh_part = np.exp(-t_coh/50)\n",
    "data2d = (coh_part[:, None] * det_part[None, :])\n",
    "meta_2d = {\n",
    "    'signal_types': cfg_2d.signal_types,\n",
    "    'inhom_enabled': False,\n",
    "    'inhom_averaged': False,\n",
    "}\n",
    "path_2d = save_simulation_data(sim_2d, meta_2d, [data2d], t_det, t_coh=t_coh, data_root=test_dir)\n",
    "print('2D stem:', stem(path_2d))\n",
    "assert stem(path_2d).startswith('2d_'), '2D filename should start with sim_type prefix 2d_.'"
   ]
  },
  {
   "cell_type": "code",
   "execution_count": 8,
   "id": "f2d78373",
   "metadata": {},
   "outputs": [
    {
     "name": "stdout",
     "output_type": "stream",
     "text": [
      "Loading data bundle: C:\\Users\\leopo\\.vscode\\thesis_python\\data\\io_naming_tests\\20250927_094432\\1d_spectroscopy\\1_atoms\\ME\\RWA\\inhom\\t_dm100.0_t_wait_0.0_dt_0.1\\1d_t_coh_50_inhom_000_data.npz\n",
      "Loading data: C:\\Users\\leopo\\.vscode\\thesis_python\\data\\io_naming_tests\\20250927_094432\\1d_spectroscopy\\1_atoms\\ME\\RWA\\inhom\\t_dm100.0_t_wait_0.0_dt_0.1\\1d_t_coh_50_inhom_000_data.npz\n",
      "Loaded data: C:\\Users\\leopo\\.vscode\\thesis_python\\data\\io_naming_tests\\20250927_094432\\1d_spectroscopy\\1_atoms\\ME\\RWA\\inhom\\t_dm100.0_t_wait_0.0_dt_0.1\\1d_t_coh_50_inhom_000_data.npz\n",
      "Loading info: C:\\Users\\leopo\\.vscode\\thesis_python\\data\\io_naming_tests\\20250927_094432\\1d_spectroscopy\\1_atoms\\ME\\RWA\\inhom\\t_dm100.0_t_wait_0.0_dt_0.1\\1d_t_coh_50_inhom_000_info.pkl\n",
      "Loaded info: C:\\Users\\leopo\\.vscode\\thesis_python\\data\\io_naming_tests\\20250927_094432\\1d_spectroscopy\\1_atoms\\ME\\RWA\\inhom\\t_dm100.0_t_wait_0.0_dt_0.1\\1d_t_coh_50_inhom_000_info.pkl\n",
      "Loading data bundle: C:\\Users\\leopo\\.vscode\\thesis_python\\data\\io_naming_tests\\20250927_094432\\1d_spectroscopy\\1_atoms\\ME\\RWA\\inhom\\t_dm100.0_t_wait_0.0_dt_0.1\\1d_t_coh_50_inhom_001_data.npz\n",
      "Loading data: C:\\Users\\leopo\\.vscode\\thesis_python\\data\\io_naming_tests\\20250927_094432\\1d_spectroscopy\\1_atoms\\ME\\RWA\\inhom\\t_dm100.0_t_wait_0.0_dt_0.1\\1d_t_coh_50_inhom_001_data.npz\n",
      "Loaded data: C:\\Users\\leopo\\.vscode\\thesis_python\\data\\io_naming_tests\\20250927_094432\\1d_spectroscopy\\1_atoms\\ME\\RWA\\inhom\\t_dm100.0_t_wait_0.0_dt_0.1\\1d_t_coh_50_inhom_001_data.npz\n",
      "Loading info: C:\\Users\\leopo\\.vscode\\thesis_python\\data\\io_naming_tests\\20250927_094432\\1d_spectroscopy\\1_atoms\\ME\\RWA\\inhom\\t_dm100.0_t_wait_0.0_dt_0.1\\1d_t_coh_50_inhom_001_info.pkl\n",
      "Loaded info: C:\\Users\\leopo\\.vscode\\thesis_python\\data\\io_naming_tests\\20250927_094432\\1d_spectroscopy\\1_atoms\\ME\\RWA\\inhom\\t_dm100.0_t_wait_0.0_dt_0.1\\1d_t_coh_50_inhom_001_info.pkl\n",
      "Loading data bundle: C:\\Users\\leopo\\.vscode\\thesis_python\\data\\io_naming_tests\\20250927_094432\\1d_spectroscopy\\1_atoms\\ME\\RWA\\inhom\\t_dm100.0_t_wait_0.0_dt_0.1\\1d_t_coh_50_inhom_002_data.npz\n",
      "Loading data: C:\\Users\\leopo\\.vscode\\thesis_python\\data\\io_naming_tests\\20250927_094432\\1d_spectroscopy\\1_atoms\\ME\\RWA\\inhom\\t_dm100.0_t_wait_0.0_dt_0.1\\1d_t_coh_50_inhom_002_data.npz\n",
      "Loaded data: C:\\Users\\leopo\\.vscode\\thesis_python\\data\\io_naming_tests\\20250927_094432\\1d_spectroscopy\\1_atoms\\ME\\RWA\\inhom\\t_dm100.0_t_wait_0.0_dt_0.1\\1d_t_coh_50_inhom_002_data.npz\n",
      "Loading info: C:\\Users\\leopo\\.vscode\\thesis_python\\data\\io_naming_tests\\20250927_094432\\1d_spectroscopy\\1_atoms\\ME\\RWA\\inhom\\t_dm100.0_t_wait_0.0_dt_0.1\\1d_t_coh_50_inhom_002_info.pkl\n",
      "Loaded info: C:\\Users\\leopo\\.vscode\\thesis_python\\data\\io_naming_tests\\20250927_094432\\1d_spectroscopy\\1_atoms\\ME\\RWA\\inhom\\t_dm100.0_t_wait_0.0_dt_0.1\\1d_t_coh_50_inhom_002_info.pkl\n",
      "Loading data bundle: C:\\Users\\leopo\\.vscode\\thesis_python\\data\\io_naming_tests\\20250927_094432\\1d_spectroscopy\\1_atoms\\ME\\RWA\\inhom\\t_dm100.0_t_wait_0.0_dt_0.1\\1d_t_coh_50_inhom_003_data.npz\n",
      "Loading data: C:\\Users\\leopo\\.vscode\\thesis_python\\data\\io_naming_tests\\20250927_094432\\1d_spectroscopy\\1_atoms\\ME\\RWA\\inhom\\t_dm100.0_t_wait_0.0_dt_0.1\\1d_t_coh_50_inhom_003_data.npz\n",
      "Loaded data: C:\\Users\\leopo\\.vscode\\thesis_python\\data\\io_naming_tests\\20250927_094432\\1d_spectroscopy\\1_atoms\\ME\\RWA\\inhom\\t_dm100.0_t_wait_0.0_dt_0.1\\1d_t_coh_50_inhom_003_data.npz\n",
      "Loading info: C:\\Users\\leopo\\.vscode\\thesis_python\\data\\io_naming_tests\\20250927_094432\\1d_spectroscopy\\1_atoms\\ME\\RWA\\inhom\\t_dm100.0_t_wait_0.0_dt_0.1\\1d_t_coh_50_inhom_003_info.pkl\n",
      "Loaded info: C:\\Users\\leopo\\.vscode\\thesis_python\\data\\io_naming_tests\\20250927_094432\\1d_spectroscopy\\1_atoms\\ME\\RWA\\inhom\\t_dm100.0_t_wait_0.0_dt_0.1\\1d_t_coh_50_inhom_003_info.pkl\n",
      "Loading data bundle: C:\\Users\\leopo\\.vscode\\thesis_python\\data\\io_naming_tests\\20250927_094432\\1d_spectroscopy\\1_atoms\\ME\\RWA\\inhom\\t_dm100.0_t_wait_0.0_dt_0.1\\1d_inhom_avg_t_coh_50_inhom_000_data.npz\n",
      "Loading data: C:\\Users\\leopo\\.vscode\\thesis_python\\data\\io_naming_tests\\20250927_094432\\1d_spectroscopy\\1_atoms\\ME\\RWA\\inhom\\t_dm100.0_t_wait_0.0_dt_0.1\\1d_inhom_avg_t_coh_50_inhom_000_data.npz\n",
      "Loaded data: C:\\Users\\leopo\\.vscode\\thesis_python\\data\\io_naming_tests\\20250927_094432\\1d_spectroscopy\\1_atoms\\ME\\RWA\\inhom\\t_dm100.0_t_wait_0.0_dt_0.1\\1d_inhom_avg_t_coh_50_inhom_000_data.npz\n",
      "Loading info: C:\\Users\\leopo\\.vscode\\thesis_python\\data\\io_naming_tests\\20250927_094432\\1d_spectroscopy\\1_atoms\\ME\\RWA\\inhom\\t_dm100.0_t_wait_0.0_dt_0.1\\1d_inhom_avg_t_coh_50_inhom_000_info.pkl\n",
      "Loaded info: C:\\Users\\leopo\\.vscode\\thesis_python\\data\\io_naming_tests\\20250927_094432\\1d_spectroscopy\\1_atoms\\ME\\RWA\\inhom\\t_dm100.0_t_wait_0.0_dt_0.1\\1d_inhom_avg_t_coh_50_inhom_000_info.pkl\n",
      "Loading data bundle: C:\\Users\\leopo\\.vscode\\thesis_python\\data\\io_naming_tests\\20250927_094432\\2d_spectroscopy\\1_atoms\\ME\\RWA\\inhom\\t_dm100.0_t_wait_0.0_dt_0.1\\2d_t_coh_50_inhom_000_data.npz\n",
      "Loading data: C:\\Users\\leopo\\.vscode\\thesis_python\\data\\io_naming_tests\\20250927_094432\\2d_spectroscopy\\1_atoms\\ME\\RWA\\inhom\\t_dm100.0_t_wait_0.0_dt_0.1\\2d_t_coh_50_inhom_000_data.npz\n",
      "Loaded data: C:\\Users\\leopo\\.vscode\\thesis_python\\data\\io_naming_tests\\20250927_094432\\2d_spectroscopy\\1_atoms\\ME\\RWA\\inhom\\t_dm100.0_t_wait_0.0_dt_0.1\\2d_t_coh_50_inhom_000_data.npz\n",
      "Loading info: C:\\Users\\leopo\\.vscode\\thesis_python\\data\\io_naming_tests\\20250927_094432\\2d_spectroscopy\\1_atoms\\ME\\RWA\\inhom\\t_dm100.0_t_wait_0.0_dt_0.1\\2d_t_coh_50_inhom_000_info.pkl\n",
      "Loaded info: C:\\Users\\leopo\\.vscode\\thesis_python\\data\\io_naming_tests\\20250927_094432\\2d_spectroscopy\\1_atoms\\ME\\RWA\\inhom\\t_dm100.0_t_wait_0.0_dt_0.1\\2d_t_coh_50_inhom_000_info.pkl\n"
     ]
    },
    {
     "data": {
      "text/plain": [
       "[{'stem': '1d_t_coh_50_inhom_000_data',\n",
       "  'sim_type': '1d',\n",
       "  'inhom_index': 0,\n",
       "  'inhom_averaged': False,\n",
       "  'shape': (256,)},\n",
       " {'stem': '1d_t_coh_50_inhom_001_data',\n",
       "  'sim_type': '1d',\n",
       "  'inhom_index': 1,\n",
       "  'inhom_averaged': False,\n",
       "  'shape': (256,)},\n",
       " {'stem': '1d_t_coh_50_inhom_002_data',\n",
       "  'sim_type': '1d',\n",
       "  'inhom_index': 2,\n",
       "  'inhom_averaged': False,\n",
       "  'shape': (256,)},\n",
       " {'stem': '1d_t_coh_50_inhom_003_data',\n",
       "  'sim_type': '1d',\n",
       "  'inhom_index': 3,\n",
       "  'inhom_averaged': False,\n",
       "  'shape': (256,)},\n",
       " {'stem': '1d_inhom_avg_t_coh_50_inhom_000_data',\n",
       "  'sim_type': '1d',\n",
       "  'inhom_index': 0,\n",
       "  'inhom_averaged': True,\n",
       "  'shape': (256,)},\n",
       " {'stem': '2d_t_coh_50_inhom_000_data',\n",
       "  'sim_type': '2d',\n",
       "  'inhom_index': 0,\n",
       "  'inhom_averaged': False,\n",
       "  'shape': (11, 128)}]"
      ]
     },
     "execution_count": 8,
     "metadata": {},
     "output_type": "execute_result"
    }
   ],
   "source": [
    "# 4. Load & validate all saved files\n",
    "all_paths = raw_paths + [avg_path, path_2d]\n",
    "report = []\n",
    "for p in all_paths:\n",
    "    b = load_simulation_data(p)\n",
    "    sim_cfg = b['sim_config']\n",
    "    is_2d = sim_cfg.sim_type == '2d'\n",
    "    if is_2d:\n",
    "        arr = b['rephasing']\n",
    "        assert arr.shape == (len(b['t_coh']), len(b['t_det']))\n",
    "    else:\n",
    "        arr = b['rephasing']\n",
    "        assert arr.shape == (len(b['t_det']),)\n",
    "    report.append({\n",
    "        'stem': stem(p),\n",
    "        'sim_type': sim_cfg.sim_type,\n",
    "        'inhom_index': sim_cfg.inhom_index,\n",
    "        'inhom_averaged': sim_cfg.inhom_averaged,\n",
    "        'shape': arr.shape,\n",
    "    })\n",
    "\n",
    "report"
   ]
  },
  {
   "cell_type": "code",
   "execution_count": 9,
   "id": "b477089a",
   "metadata": {},
   "outputs": [
    {
     "name": "stdout",
     "output_type": "stream",
     "text": [
      "Kept test data at: C:\\Users\\leopo\\.vscode\\thesis_python\\data\\io_naming_tests\\20250927_094432\n"
     ]
    }
   ],
   "source": [
    "# 5. (Optional) Clean up test artifacts.\n",
    "# Set to True to delete created files after inspection.\n",
    "CLEANUP = False\n",
    "if CLEANUP:\n",
    "    import shutil\n",
    "    shutil.rmtree(test_dir, ignore_errors=True)\n",
    "    print('Removed test directory.')\n",
    "else:\n",
    "    print('Kept test data at:', test_dir)"
   ]
  },
  {
   "cell_type": "code",
   "execution_count": 10,
   "id": "dc2eb236",
   "metadata": {},
   "outputs": [
    {
     "name": "stdout",
     "output_type": "stream",
     "text": [
      "Info saved: C:\\Users\\leopo\\.vscode\\thesis_python\\data\\io_naming_tests\\20250927_094432\\collision_case\\1d_spectroscopy\\1_atoms\\ME\\RWA\\t_dm80.0_t_wait_0.0_dt_0.1\\1d_t_coh_33.3_inhom_000_info.pkl\n",
      "Info saved: C:\\Users\\leopo\\.vscode\\thesis_python\\data\\io_naming_tests\\20250927_094432\\collision_case\\1d_spectroscopy\\1_atoms\\ME\\RWA\\t_dm80.0_t_wait_0.0_dt_0.1\\1d_t_coh_33.3_inhom_000_info_1.pkl\n",
      "Found data files (relative to collision_dir):\n",
      "   1d_spectroscopy\\1_atoms\\ME\\RWA\\t_dm80.0_t_wait_0.0_dt_0.1\\1d_t_coh_33.3_inhom_000_data.npz\n",
      "   1d_spectroscopy\\1_atoms\\ME\\RWA\\t_dm80.0_t_wait_0.0_dt_0.1\\1d_t_coh_33.3_inhom_000_data_1.npz\n"
     ]
    },
    {
     "data": {
      "text/plain": [
       "['1d_t_coh_33.3_inhom_000_data.npz', '1d_t_coh_33.3_inhom_000_data_1.npz']"
      ]
     },
     "execution_count": 10,
     "metadata": {},
     "output_type": "execute_result"
    }
   ],
   "source": [
    "# 6. Collision fallback test (enumeration now ALWAYS on collision; no collision_mode argument)\n",
    "# Note: Files are saved in nested subfolders under collision_dir, so we search recursively.\n",
    "\n",
    "collision_dir = test_dir / 'collision_case'\n",
    "collision_dir.mkdir(exist_ok=True)\n",
    "\n",
    "col_cfg = SimulationConfig(\n",
    "    ode_solver='ME', dt=0.1, t_coh=33.3, t_wait=0.0, t_det_max=80.0,\n",
    "    n_phases=4, n_inhomogen=1, sim_type='1d', signal_types=['rephasing'], inhom_index=0\n",
    ")\n",
    "col_sim = DummySimModule(col_cfg)\n",
    "\n",
    "col_t_det = np.linspace(0, 80, 64)\n",
    "col_data  = np.cos(0.05 * col_t_det)\n",
    "meta_col = {\n",
    "    'signal_types': col_cfg.signal_types,\n",
    "    't_coh_value': col_cfg.t_coh,\n",
    "    'inhom_enabled': False,\n",
    "    'inhom_averaged': False,\n",
    "}\n",
    "\n",
    "# First save (base _data variant)\n",
    "first_path  = save_simulation_data(col_sim, meta_col, [col_data], col_t_det, data_root=collision_dir)\n",
    "# Second save (should auto-enumerate on _data stem -> _data_1)\n",
    "second_path = save_simulation_data(col_sim, meta_col, [col_data], col_t_det, data_root=collision_dir)\n",
    "\n",
    "npz_paths = sorted(p for p in collision_dir.rglob('*_data*.npz'))\n",
    "print('Found data files (relative to collision_dir):')\n",
    "for p in npz_paths:\n",
    "    try:\n",
    "        rel = p.relative_to(collision_dir)\n",
    "    except ValueError:\n",
    "        rel = p\n",
    "    print('  ', rel)\n",
    "\n",
    "stems = [p.name for p in npz_paths]  # include extension for clarity now\n",
    "# Expect enumerated variant pattern: base_data_1.npz (or base_data_2, etc.)\n",
    "base_enumerated_ok = any(s.endswith('_data_1.npz') or s.endswith('_data_2.npz') or s.endswith('_data_3.npz') for s in stems)\n",
    "assert base_enumerated_ok, 'Missing enumerated base_data_<N>.npz variant among: ' + ', '.join(stems)\n",
    "\n",
    "stems"
   ]
  },
  {
   "cell_type": "code",
   "execution_count": 11,
   "id": "056c0b3a",
   "metadata": {},
   "outputs": [
    {
     "name": "stdout",
     "output_type": "stream",
     "text": [
      "Averaged 1D stem:  1d_inhom_avg_t_coh_50_inhom_000_data\n",
      "Stacked  2D stem:  2d_t_coh_50_inhom_000_data\n",
      "✅ Prefix ordering for averaged filenames verified.\n"
     ]
    }
   ],
   "source": [
    "# 7. Test prefix ordering for averaged outputs (updated expectations)\n",
    "from pathlib import Path\n",
    "\n",
    "avg_stem   = stem(avg_path)\n",
    "stack_stem = stem(path_2d)\n",
    "\n",
    "print('Averaged 1D stem: ', avg_stem)\n",
    "print('Stacked  2D stem: ', stack_stem)\n",
    "\n",
    "# Expect the new prefix style for averaged variants\n",
    "assert avg_stem.startswith('1d_inhom_avg_'), (\n",
    "    f\"Expected inhom_avg_ prefix after flip, got: {avg_stem}\"\n",
    ")\n",
    "assert 't_coh_' in avg_stem, 'Core t_coh segment missing in averaged 1D stem.'\n",
    "\n",
    "# 2D dataset (non-averaged over t_coh) should just start with '2d_'\n",
    "assert stack_stem.startswith('2d_'), (\n",
    "    f\"Expected 2d_ prefix for 2D dataset, got: {stack_stem}\"\n",
    ")\n",
    "assert 't_coh_' in stack_stem, 'Core t_coh segment missing in 2D stacked stem.'\n",
    "\n",
    "# Ensure no legacy suffix style remains (best-effort check)\n",
    "legacy_suffix = avg_stem.endswith('_inhom_avg') or stack_stem.endswith('_tcoh_avg')\n",
    "assert not legacy_suffix, 'Detected legacy suffix style in stems (should be prefix style).'\n",
    "\n",
    "print('✅ Prefix ordering for averaged filenames verified.')"
   ]
  },
  {
   "cell_type": "code",
   "execution_count": 12,
   "id": "28a29088",
   "metadata": {},
   "outputs": [
    {
     "name": "stdout",
     "output_type": "stream",
     "text": [
      "Info saved: C:\\Users\\leopo\\.vscode\\thesis_python\\data\\io_naming_tests\\20250927_094432\\2d_spectroscopy\\1_atoms\\ME\\RWA\\inhom\\t_dm100.0_t_wait_0.0_dt_0.1\\2d_inhom_avg_t_coh_50_inhom_000_info.pkl\n",
      "Combined averaged stem: 2d_inhom_avg_t_coh_50_inhom_000_data\n",
      "Loading data bundle: C:\\Users\\leopo\\.vscode\\thesis_python\\data\\io_naming_tests\\20250927_094432\\2d_spectroscopy\\1_atoms\\ME\\RWA\\inhom\\t_dm100.0_t_wait_0.0_dt_0.1\\2d_inhom_avg_t_coh_50_inhom_000_data.npz\n",
      "Loading data: C:\\Users\\leopo\\.vscode\\thesis_python\\data\\io_naming_tests\\20250927_094432\\2d_spectroscopy\\1_atoms\\ME\\RWA\\inhom\\t_dm100.0_t_wait_0.0_dt_0.1\\2d_inhom_avg_t_coh_50_inhom_000_data.npz\n",
      "Loaded data: C:\\Users\\leopo\\.vscode\\thesis_python\\data\\io_naming_tests\\20250927_094432\\2d_spectroscopy\\1_atoms\\ME\\RWA\\inhom\\t_dm100.0_t_wait_0.0_dt_0.1\\2d_inhom_avg_t_coh_50_inhom_000_data.npz\n",
      "Loading info: C:\\Users\\leopo\\.vscode\\thesis_python\\data\\io_naming_tests\\20250927_094432\\2d_spectroscopy\\1_atoms\\ME\\RWA\\inhom\\t_dm100.0_t_wait_0.0_dt_0.1\\2d_inhom_avg_t_coh_50_inhom_000_info.pkl\n",
      "Loaded info: C:\\Users\\leopo\\.vscode\\thesis_python\\data\\io_naming_tests\\20250927_094432\\2d_spectroscopy\\1_atoms\\ME\\RWA\\inhom\\t_dm100.0_t_wait_0.0_dt_0.1\\2d_inhom_avg_t_coh_50_inhom_000_info.pkl\n",
      "✅ Combined averaged (inhom + coherence stack) filename and data shape validated.\n"
     ]
    }
   ],
   "source": [
    "# 8. Both inhomogeneous and t_coh averaged (combined prefix) – UPDATED CONFIG\n",
    "# Create a 2D dataset averaged over inhom configs AND representing stacked coherence delays.\n",
    "\n",
    "cfg_both = SimulationConfig(**{\n",
    "    **base_cfg.to_dict(),\n",
    "    'sim_type': '2d',\n",
    "    'inhom_index': 0,          # canonical index for averaged\n",
    "    'inhom_enabled': True,\n",
    "    'inhom_averaged': True,\n",
    "    # t_coh_averaged flag has been deprecated from naming; combined averaging reflected only by inhom_avg prefix\n",
    "})\n",
    "\n",
    "sim_both = DummySimModule(cfg_both)\n",
    "\n",
    "# Axes\n",
    "both_t_det = np.linspace(0, 120, 90)\n",
    "both_t_coh = np.linspace(0, 70, 9)\n",
    "\n",
    "# Dummy separable 2D surface again (slightly different params to distinguish)\n",
    "both_surface = np.exp(-both_t_coh[:, None]/60) * np.cos(0.07 * both_t_det)[None, :]\n",
    "\n",
    "meta_both = {\n",
    "    'signal_types': cfg_both.signal_types,\n",
    "    'inhom_enabled': True,\n",
    "    'inhom_averaged': True,\n",
    "}\n",
    "\n",
    "both_path = save_simulation_data(\n",
    "    sim_both,\n",
    "    meta_both,\n",
    "    [both_surface],\n",
    "    both_t_det,\n",
    "    t_coh=both_t_coh,\n",
    "    data_root=test_dir,\n",
    ")\n",
    "\n",
    "both_stem = stem(both_path)\n",
    "print('Combined averaged stem:', both_stem)\n",
    "\n",
    "# Assertions for prefix ordering\n",
    "assert both_stem.startswith('2d_inhom_avg_'), (\n",
    "    f\"Expected combined averaged prefix 'inhom_avg_' but got: {both_stem}\"\n",
    ")\n",
    "assert 't_coh_' in both_stem, 'Missing core t_coh segment in combined averaged stem.'\n",
    "\n",
    "# Ensure no legacy trailing suffix style\n",
    "assert not both_stem.endswith('_inhom_avg'), (\n",
    "    'Legacy suffix style detected in combined averaged stem.'\n",
    ")\n",
    "\n",
    "# Basic shape validation from re-load\n",
    "bundle_both = load_simulation_data(both_path)\n",
    "arr_both = bundle_both['rephasing']\n",
    "assert arr_both.shape == (len(both_t_coh), len(both_t_det)), 'Unexpected array shape for combined averaged 2D data.'\n",
    "\n",
    "print('✅ Combined averaged (inhom + coherence stack) filename and data shape validated.')"
   ]
  }
 ],
 "metadata": {
  "kernelspec": {
   "display_name": "m_env",
   "language": "python",
   "name": "python3"
  },
  "language_info": {
   "codemirror_mode": {
    "name": "ipython",
    "version": 3
   },
   "file_extension": ".py",
   "mimetype": "text/x-python",
   "name": "python",
   "nbconvert_exporter": "python",
   "pygments_lexer": "ipython3",
   "version": "3.11.13"
  }
 },
 "nbformat": 4,
 "nbformat_minor": 5
}
