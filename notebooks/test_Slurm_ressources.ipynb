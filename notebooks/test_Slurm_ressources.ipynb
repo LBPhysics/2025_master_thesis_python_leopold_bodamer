{
 "cells": [
  {
   "cell_type": "code",
   "execution_count": null,
   "id": "6aeb4542",
   "metadata": {},
   "outputs": [],
   "source": [
    "import math\n",
    "\n",
    "def estimate_slurm_resources(sim, n_inhom: int, n_times: int, n_batches: int) -> tuple[str, str]:\n",
    "    \"\"\"Estimate SLURM memory and time requirements based on workload.\"\"\"\n",
    "    combos = n_times * n_inhom\n",
    "    num_combos_per_batch = combos // n_batches\n",
    "    \n",
    "    # Estimate memory: base 0.3G + factor for data size (complex64 = 8 bytes)\n",
    "    len_t = len(sim.times_local) # actually it saves only a portion of this len: t_det up to time_cut \n",
    "    # -> so len_t is most important for time\n",
    "    mem_gb = 0.3 + (num_combos_per_batch * len_t * 8 * 30) / (1024**3) # 30 is a safety factor\n",
    "    requested_mem_gb = math.ceil(mem_gb * 10) / 10\n",
    "    requested_mem_mb = int(requested_mem_gb * 1024)\n",
    "    requested_mem = f\"{requested_mem_mb}M\"\n",
    "    \n",
    "    \n",
    "    # Estimate time: scale based on solver, n_atoms, len_coh_times\n",
    "    solver = sim.simulation_config.ode_solver\n",
    "    n_atoms = sim.system.n_atoms\n",
    "    base_time_per_combo_seconds = 1.5  # normalized from example: 1 combo in 3s for ME with 1 atom, 1 t_coh value for len_t = 1000\n",
    "    if solver == \"BR\":\n",
    "        base_time_per_combo_seconds = 2.5  # for len_t=1000, 1 combo, 1 atom, 1 t_coh\n",
    "    base_time_per_combo_seconds *= n_atoms ** 2  # quadratic scaling with n_atoms (matrix diagonalization)\n",
    "    base_time_per_combo_seconds *= len_t / 1000  # scaling with detection time length\n",
    "    time_seconds = num_combos_per_batch * base_time_per_combo_seconds\n",
    "    time_hours = max(0.1, time_seconds / 3600)  # minimum ~36 seconds for safety\n",
    "    if time_hours < 1:\n",
    "        minutes = int(time_hours * 60)\n",
    "        requested_time = f\"00:{minutes:02d}:00\"\n",
    "    else:\n",
    "        days = int(time_hours) // 24\n",
    "        hours = int(time_hours) % 24\n",
    "        if days > 0:\n",
    "            requested_time = f\"{days}-{hours:02d}:00:00\"\n",
    "        else:\n",
    "            requested_time = f\"{hours:02d}:00:00\"\n",
    "    \n",
    "    return requested_mem, requested_time"
   ]
  },
  {
   "cell_type": "code",
   "execution_count": 2,
   "id": "29d21393",
   "metadata": {},
   "outputs": [],
   "source": [
    "# Mock simulation object for testing\n",
    "class MockSim:\n",
    "    def __init__(self, ode_solver, n_atoms, len_t=1000):\n",
    "        self.simulation_config = type('obj', (object,), {'ode_solver': ode_solver})\n",
    "        self.system = type('obj', (object,), {'n_atoms': n_atoms})\n",
    "        self.times_local = [0] * len_t  # mock times_local array"
   ]
  },
  {
   "cell_type": "code",
   "execution_count": 3,
   "id": "11881731",
   "metadata": {},
   "outputs": [],
   "source": [
    "test_cases = [\n",
    "    ('Currently i want to simulate: 2D (n_times=600) ME, 1 atom, length of times approx 1000', MockSim(ode_solver=\"ME\", n_atoms=1, len_t=1000), 1, 600, 20),\n",
    "]"
   ]
  },
  {
   "cell_type": "code",
   "execution_count": 4,
   "id": "954c609e",
   "metadata": {},
   "outputs": [
    {
     "name": "stdout",
     "output_type": "stream",
     "text": [
      "SLURM Resource Estimation Test Results\n",
      "============================================================\n",
      "Currently i want to simulate: 2D (n_times=600) ME, 1 atom, length of times approx 1000:\n",
      "  Total combos: 600, Combos/batch: 30, N_inhom: 1, N_times: 600, N_batches: 20\n",
      "  Solver: ME, N_atoms: 1\n",
      "  Estimated Memory: 409M, Time: 00:06:00\n",
      "\n"
     ]
    }
   ],
   "source": [
    "# Run tests\n",
    "print(\"SLURM Resource Estimation Test Results\")\n",
    "print(\"=\" * 60)\n",
    "for desc, sim, n_inhom, n_times, n_batches in test_cases:\n",
    "    mem, time = estimate_slurm_resources(sim, n_inhom, n_times, n_batches)\n",
    "    combos = n_times * n_inhom\n",
    "    combos_per_batch = combos // n_batches\n",
    "    print(f\"{desc}:\")\n",
    "    print(f\"  Total combos: {combos}, Combos/batch: {combos_per_batch}, N_inhom: {n_inhom}, N_times: {n_times}, N_batches: {n_batches}\")\n",
    "    print(f\"  Solver: {sim.simulation_config.ode_solver}, N_atoms: {sim.system.n_atoms}\")\n",
    "    print(f\"  Estimated Memory: {mem}, Time: {time}\")\n",
    "    print()"
   ]
  },
  {
   "cell_type": "markdown",
   "id": "e49eddf0",
   "metadata": {},
   "source": [
    "## Test Results Explanation\n",
    "\n",
    "All tests use len_t=1000 (detection time points), num_combos_per_batch=50.\n",
    "\n",
    "- **1D cases** (len_coh_times=1): Fast, minimal scaling.\n",
    "- **2D cases**: Scale with len_coh_times (100 or 500).\n",
    "- **BR vs ME**: BR has 20x time factor.\n",
    "- **Atom count**: Quadratic scaling with n_atoms.\n",
    "\n",
    "Adjust base values and factors based on real benchmarks!"
   ]
  },
  {
   "cell_type": "markdown",
   "id": "1e032e96",
   "metadata": {},
   "source": [
    "# Testing SLURM Resource Estimation\n",
    "\n",
    "This notebook tests the `estimate_slurm_resources` function with various parameter combinations to understand expected memory and time requirements."
   ]
  }
 ],
 "metadata": {
  "kernelspec": {
   "display_name": "m_env",
   "language": "python",
   "name": "python3"
  },
  "language_info": {
   "codemirror_mode": {
    "name": "ipython",
    "version": 3
   },
   "file_extension": ".py",
   "mimetype": "text/x-python",
   "name": "python",
   "nbconvert_exporter": "python",
   "pygments_lexer": "ipython3",
   "version": "3.11.13"
  }
 },
 "nbformat": 4,
 "nbformat_minor": 5
}
